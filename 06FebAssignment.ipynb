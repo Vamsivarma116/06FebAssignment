{
 "cells": [
  {
   "cell_type": "code",
   "execution_count": 45,
   "id": "8ed8be23-55e3-4906-a913-ab7246c414f6",
   "metadata": {},
   "outputs": [
    {
     "name": "stdout",
     "output_type": "stream",
     "text": [
      "[1, 2, 3, 4, 44, 55, 66, 34, 56, 78, 89, 34, 1, 2, 3, 1, 4, 34, 55, 67, 78, 89, 45, 22, 61, 34, 56]\n",
      "4134711838987085478833841242112000\n"
     ]
    }
   ],
   "source": [
    "\"\"\"Q1. Create a function which will take a list as an argument and return the product of all the numbers\n",
    "       after creating a flat list.\n",
    "       Use the below-given list as an argument for your function.\n",
    "       list1 = [1,2,3,4, [44,55,66, True], False, (34,56,78,89,34), {1,2,3,3,2,1}, {1:34, \"key2\": [55, 67, 78, 89], 4: (45,\n",
    "       22, 61, 34)}, [56, 'data science'], 'Machine Learning']\n",
    "       Note: you must extract numeric keys and values of the dictionary also.\"\"\"\n",
    "\n",
    "from functools import reduce\n",
    "\n",
    "list1 = [1,2,3,4, [44,55,66, True], False, (34,56,78,89,34), {1,2,3,3,2,1}, {1:34, \"key2\": [55, 67, 78, 89], 4: (45,22, 61, 34)}, [56,'data science'], 'Machine Learning']\n",
    "\n",
    "def integers(list1):\n",
    "    l=[]\n",
    "    for i in list1:\n",
    "\n",
    "        if( type(i) == int or type(i) == float):\n",
    "            l.append(i)\n",
    "        elif(  isinstance(i,type(list)) ):\n",
    "            for j in i:\n",
    "                if( type(j) == int or type(j) == float):\n",
    "                    l.append(j)\n",
    "        elif(type(i) == dict):\n",
    "            z=(i.keys())\n",
    "            y=(i.values())\n",
    "            for k in z:\n",
    "                if( type(k) == int or type(k) == float):\n",
    "                    l.append(k)\n",
    "            for m in y:\n",
    "                if( type(m) == int or type(m) == float):\n",
    "                    l.append(m)\n",
    "                elif( isinstance(m,type(list)) ):\n",
    "                    for j in m:\n",
    "                        if( type(j) == int or type(j) == float):\n",
    "                            l.append(j)\n",
    "                elif(type(m) == tuple or type(m) == set):\n",
    "                    for o in m:\n",
    "                        if( type(o) == int or type(o) == float):\n",
    "                            l.append(o)\n",
    "                            \n",
    "        elif(type(i) == tuple or  type(i) == set):\n",
    "            for o in i:\n",
    "                if( type(o) == int or type(o) == float):\n",
    "                    l.append(o)\n",
    "            \n",
    "    return l,reduce(lambda x,y:x*y,l)\n",
    "            \n",
    "\n",
    "Flat_list,product=integers(list1)\n",
    "    \n",
    "print(Flat_list)\n",
    "print(product)"
   ]
  },
  {
   "cell_type": "code",
   "execution_count": 46,
   "id": "116c96cd-e42b-4324-96a2-6df0d19a6a21",
   "metadata": {},
   "outputs": [
    {
     "name": "stdin",
     "output_type": "stream",
     "text": [
      " I want to become a Data Scientist.\n"
     ]
    },
    {
     "name": "stdout",
     "output_type": "stream",
     "text": [
      "r$dzmg$gl$yvxlnv$z$wzgz$hxrvmgrhg.\n"
     ]
    }
   ],
   "source": [
    "\"\"\"Q2. Write a python program for encrypting a message sent to you by your friend. The logic of encryption\n",
    "       should be such that, for a the output should be z. For b, the output should be y. For c, the output should\n",
    "       be x respectively. Also, the whitespace should be replaced with a dollar sign. Keep the punctuation\n",
    "       marks unchanged.\n",
    "       Input Sentence: I want to become a Data Scientist.\n",
    "       Encrypt the above input sentence using the program you just created.\n",
    "       Note: Convert the given input sentence into lowercase before encrypting. The final output should be\n",
    "       lowercase.\"\"\"\n",
    "\n",
    "list2=[\"a\",\"b\",\"c\",\"d\",\"e\",\"f\",\"g\",\"h\",\"i\",\"j\",\"k\",\"l\",\"m\",\"n\",\"o\",\"p\",\"q\",\"r\",\"s\",\"t\",\"u\",\"v\",\"w\",\"x\",\"y\",\"z\"]\n",
    "\n",
    "s=input().lower()\n",
    "\n",
    "s1=\"\"\n",
    "\n",
    "for i in s:\n",
    "    if(i==\" \"):\n",
    "        s1=s1+\"$\"\n",
    "    elif(i in list):\n",
    "        s1=s1+list2[26-(list.index(i))-1]\n",
    "    else:\n",
    "        s1=s1+i\n",
    "        \n",
    "print(s1)\n",
    "       \n"
   ]
  },
  {
   "cell_type": "code",
   "execution_count": null,
   "id": "f32b99d6-778e-4191-9ef6-b8a61db6895a",
   "metadata": {},
   "outputs": [],
   "source": []
  }
 ],
 "metadata": {
  "kernelspec": {
   "display_name": "Python 3 (ipykernel)",
   "language": "python",
   "name": "python3"
  },
  "language_info": {
   "codemirror_mode": {
    "name": "ipython",
    "version": 3
   },
   "file_extension": ".py",
   "mimetype": "text/x-python",
   "name": "python",
   "nbconvert_exporter": "python",
   "pygments_lexer": "ipython3",
   "version": "3.10.8"
  }
 },
 "nbformat": 4,
 "nbformat_minor": 5
}
